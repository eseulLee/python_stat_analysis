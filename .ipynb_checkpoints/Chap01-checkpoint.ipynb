{
 "cells": [
  {
   "cell_type": "markdown",
   "id": "08e21712",
   "metadata": {},
   "source": [
    "# Chapter 01. 데이터"
   ]
  },
  {
   "cell_type": "code",
   "execution_count": 1,
   "id": "13666ef0",
   "metadata": {},
   "outputs": [],
   "source": [
    "import pandas as pd"
   ]
  },
  {
   "cell_type": "code",
   "execution_count": 7,
   "id": "62790f2e",
   "metadata": {},
   "outputs": [
    {
     "name": "stdout",
     "output_type": "stream",
     "text": [
      "C:\\Users\\dltmf\\Documents\\python_stat_analysis\n"
     ]
    }
   ],
   "source": [
    "!cd"
   ]
  },
  {
   "cell_type": "code",
   "execution_count": 9,
   "id": "217f4bf5",
   "metadata": {},
   "outputs": [
    {
     "data": {
      "text/html": [
       "<div>\n",
       "<style scoped>\n",
       "    .dataframe tbody tr th:only-of-type {\n",
       "        vertical-align: middle;\n",
       "    }\n",
       "\n",
       "    .dataframe tbody tr th {\n",
       "        vertical-align: top;\n",
       "    }\n",
       "\n",
       "    .dataframe thead th {\n",
       "        text-align: right;\n",
       "    }\n",
       "</style>\n",
       "<table border=\"1\" class=\"dataframe\">\n",
       "  <thead>\n",
       "    <tr style=\"text-align: right;\">\n",
       "      <th></th>\n",
       "      <th>학년</th>\n",
       "      <th>악력</th>\n",
       "      <th>윗몸일으키기</th>\n",
       "      <th>점수</th>\n",
       "      <th>순위</th>\n",
       "    </tr>\n",
       "    <tr>\n",
       "      <th>학생번호</th>\n",
       "      <th></th>\n",
       "      <th></th>\n",
       "      <th></th>\n",
       "      <th></th>\n",
       "      <th></th>\n",
       "    </tr>\n",
       "  </thead>\n",
       "  <tbody>\n",
       "    <tr>\n",
       "      <th>1</th>\n",
       "      <td>1</td>\n",
       "      <td>40.2</td>\n",
       "      <td>34</td>\n",
       "      <td>15</td>\n",
       "      <td>4</td>\n",
       "    </tr>\n",
       "    <tr>\n",
       "      <th>2</th>\n",
       "      <td>1</td>\n",
       "      <td>34.2</td>\n",
       "      <td>14</td>\n",
       "      <td>7</td>\n",
       "      <td>10</td>\n",
       "    </tr>\n",
       "    <tr>\n",
       "      <th>3</th>\n",
       "      <td>1</td>\n",
       "      <td>28.8</td>\n",
       "      <td>27</td>\n",
       "      <td>11</td>\n",
       "      <td>7</td>\n",
       "    </tr>\n",
       "    <tr>\n",
       "      <th>4</th>\n",
       "      <td>2</td>\n",
       "      <td>39.0</td>\n",
       "      <td>27</td>\n",
       "      <td>14</td>\n",
       "      <td>5</td>\n",
       "    </tr>\n",
       "    <tr>\n",
       "      <th>5</th>\n",
       "      <td>2</td>\n",
       "      <td>50.9</td>\n",
       "      <td>32</td>\n",
       "      <td>17</td>\n",
       "      <td>2</td>\n",
       "    </tr>\n",
       "    <tr>\n",
       "      <th>6</th>\n",
       "      <td>2</td>\n",
       "      <td>36.5</td>\n",
       "      <td>20</td>\n",
       "      <td>9</td>\n",
       "      <td>9</td>\n",
       "    </tr>\n",
       "    <tr>\n",
       "      <th>7</th>\n",
       "      <td>3</td>\n",
       "      <td>36.6</td>\n",
       "      <td>31</td>\n",
       "      <td>13</td>\n",
       "      <td>6</td>\n",
       "    </tr>\n",
       "    <tr>\n",
       "      <th>8</th>\n",
       "      <td>3</td>\n",
       "      <td>49.2</td>\n",
       "      <td>37</td>\n",
       "      <td>18</td>\n",
       "      <td>1</td>\n",
       "    </tr>\n",
       "    <tr>\n",
       "      <th>9</th>\n",
       "      <td>3</td>\n",
       "      <td>26.0</td>\n",
       "      <td>28</td>\n",
       "      <td>10</td>\n",
       "      <td>8</td>\n",
       "    </tr>\n",
       "    <tr>\n",
       "      <th>10</th>\n",
       "      <td>3</td>\n",
       "      <td>47.4</td>\n",
       "      <td>32</td>\n",
       "      <td>16</td>\n",
       "      <td>3</td>\n",
       "    </tr>\n",
       "  </tbody>\n",
       "</table>\n",
       "</div>"
      ],
      "text/plain": [
       "      학년    악력  윗몸일으키기  점수  순위\n",
       "학생번호                          \n",
       "1      1  40.2      34  15   4\n",
       "2      1  34.2      14   7  10\n",
       "3      1  28.8      27  11   7\n",
       "4      2  39.0      27  14   5\n",
       "5      2  50.9      32  17   2\n",
       "6      2  36.5      20   9   9\n",
       "7      3  36.6      31  13   6\n",
       "8      3  49.2      37  18   1\n",
       "9      3  26.0      28  10   8\n",
       "10     3  47.4      32  16   3"
      ]
     },
     "execution_count": 9,
     "metadata": {},
     "output_type": "execute_result"
    }
   ],
   "source": [
    "df = pd.read_csv('./python_stat_sample-master/data/ch1_sport_test.csv', index_col = '학생번호')\n",
    "df    # DataFrame"
   ]
  },
  {
   "cell_type": "code",
   "execution_count": 10,
   "id": "58357702",
   "metadata": {},
   "outputs": [
    {
     "data": {
      "text/plain": [
       "학생번호\n",
       "1     40.2\n",
       "2     34.2\n",
       "3     28.8\n",
       "4     39.0\n",
       "5     50.9\n",
       "6     36.5\n",
       "7     36.6\n",
       "8     49.2\n",
       "9     26.0\n",
       "10    47.4\n",
       "Name: 악력, dtype: float64"
      ]
     },
     "execution_count": 10,
     "metadata": {},
     "output_type": "execute_result"
    }
   ],
   "source": [
    "# '악력' 열 추출\n",
    "df['악력']          # Series"
   ]
  },
  {
   "cell_type": "code",
   "execution_count": 11,
   "id": "84b5dbd5",
   "metadata": {},
   "outputs": [
    {
     "data": {
      "text/plain": [
       "(pandas.core.frame.DataFrame, pandas.core.series.Series)"
      ]
     },
     "execution_count": 11,
     "metadata": {},
     "output_type": "execute_result"
    }
   ],
   "source": [
    "type(df), type(df['악력'])"
   ]
  },
  {
   "cell_type": "markdown",
   "id": "d65a4421",
   "metadata": {},
   "source": [
    "## 1.1 데이터 크기"
   ]
  },
  {
   "cell_type": "code",
   "execution_count": 12,
   "id": "ceda17e0",
   "metadata": {},
   "outputs": [
    {
     "data": {
      "text/plain": [
       "(10, 5)"
      ]
     },
     "execution_count": 12,
     "metadata": {},
     "output_type": "execute_result"
    }
   ],
   "source": [
    "df.shape"
   ]
  },
  {
   "cell_type": "markdown",
   "id": "af41901b",
   "metadata": {},
   "source": [
    "## 1.2 변수의 종류\n",
    "\n",
    "### 1.2.1 질적 변수 vs 양적 변수\n",
    "- 질적 변수 : 종류를 구별하기 위한 변수 (1.매우좋음/2.좋음/.../4.나쁨/5.매우나쁨, A형/B형/O형/AB형)\n",
    "    - 2진변수 : 남성/여성, 흡연 여부 등 값이 2개뿐인 질적 변수\n",
    "- 양적 변수 : 시험 점수나 신장과 같이 양을 표현하는 변수\n",
    "    - 수치 변수라고 해서 무조건 양적 변수인 것은 아님 주의\n",
    "    \n",
    "### 1.2.2 척도 수준\n",
    "- 질적 변수\n",
    "    - 명의 척도 : 단순히 분류하기 위한 변수로 변수의 동일성 여부에만 의미를 둠\n",
    "        - 예) 학생번호, 전화번호, 성별 등\n",
    "        - 대소 관계 및 연산 의미 없음\n",
    "    - 순서 척도 : 순서 관계나 대소 관계에 의미가 있는 변수\n",
    "        - 예) 성적 순위, 설문조사의 만족도 등\n",
    "        - 대소 관계 O, 연산 X\n",
    "- 양적 변수\n",
    "    - 간격 척도 : 대소 관계와 함께 그 차이에도 의미를 두는 변수\n",
    "        - 예) 연도, 온도 등\n",
    "        - 대소 관계 O, 합/차 의미 O, 곱하고 나누는 것에 대한 의미는 없음\n",
    "        - 0이 '없음'을 나타내지 않음\n",
    "    - 비례 척도 : 대소 관계, 차이, 비 모두에 의미가 있는 변수\n",
    "        - 예) 길이, 무게 등\n",
    "        - 0이 '없음'을 나타냄\n",
    "\n",
    "### 1.2.3 이산형 변수 vs 연속형 변수\n",
    "- 이산형 변수 : 0, 1, 2, ... 와 같이 하나하나의 값을 취하는 변수\n",
    "- 연속형 변수 : 연속적인 값을 취할 수 있는 변수"
   ]
  }
 ],
 "metadata": {
  "kernelspec": {
   "display_name": "eseul_pycaret",
   "language": "python",
   "name": "pycaret"
  },
  "language_info": {
   "codemirror_mode": {
    "name": "ipython",
    "version": 3
   },
   "file_extension": ".py",
   "mimetype": "text/x-python",
   "name": "python",
   "nbconvert_exporter": "python",
   "pygments_lexer": "ipython3",
   "version": "3.8.13"
  }
 },
 "nbformat": 4,
 "nbformat_minor": 5
}
